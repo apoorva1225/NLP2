{
 "cells": [
  {
   "cell_type": "code",
   "execution_count": 1,
   "metadata": {},
   "outputs": [
    {
     "name": "stderr",
     "output_type": "stream",
     "text": [
      "[nltk_data] Downloading package wordnet to\n",
      "[nltk_data]     /Users/apoorvasharma/nltk_data...\n",
      "[nltk_data]   Package wordnet is already up-to-date!\n",
      "[nltk_data] Downloading package stopwords to\n",
      "[nltk_data]     /Users/apoorvasharma/nltk_data...\n",
      "[nltk_data]   Package stopwords is already up-to-date!\n"
     ]
    }
   ],
   "source": [
    "import pandas as pd\n",
    "import numpy as np\n",
    "import nltk\n",
    "nltk.download('wordnet')\n",
    "nltk.download('stopwords')\n",
    "from nltk.corpus import stopwords\n",
    "import re\n",
    "from bs4 import BeautifulSoup\n",
    " "
   ]
  },
  {
   "cell_type": "code",
   "execution_count": 2,
   "metadata": {},
   "outputs": [],
   "source": [
    "#! pip install bs4 # in case you don't have it installed\n",
    "\n",
    "# Dataset: https://s3.amazonaws.com/amazon-reviews-pds/tsv/amazon_reviews_us_Kitchen_v1_00.tsv.gz"
   ]
  },
  {
   "cell_type": "markdown",
   "metadata": {},
   "source": [
    "## Read Data"
   ]
  },
  {
   "cell_type": "code",
   "execution_count": 3,
   "metadata": {},
   "outputs": [
    {
     "name": "stderr",
     "output_type": "stream",
     "text": [
      "b'Skipping line 16148: expected 15 fields, saw 22\\nSkipping line 20100: expected 15 fields, saw 22\\nSkipping line 45178: expected 15 fields, saw 22\\nSkipping line 48700: expected 15 fields, saw 22\\nSkipping line 63331: expected 15 fields, saw 22\\n'\n",
      "b'Skipping line 86053: expected 15 fields, saw 22\\nSkipping line 88858: expected 15 fields, saw 22\\nSkipping line 115017: expected 15 fields, saw 22\\n'\n",
      "b'Skipping line 137366: expected 15 fields, saw 22\\nSkipping line 139110: expected 15 fields, saw 22\\nSkipping line 165540: expected 15 fields, saw 22\\nSkipping line 171813: expected 15 fields, saw 22\\n'\n",
      "b'Skipping line 203723: expected 15 fields, saw 22\\nSkipping line 209366: expected 15 fields, saw 22\\nSkipping line 211310: expected 15 fields, saw 22\\nSkipping line 246351: expected 15 fields, saw 22\\nSkipping line 252364: expected 15 fields, saw 22\\n'\n",
      "b'Skipping line 267003: expected 15 fields, saw 22\\nSkipping line 268957: expected 15 fields, saw 22\\nSkipping line 303336: expected 15 fields, saw 22\\nSkipping line 306021: expected 15 fields, saw 22\\nSkipping line 311569: expected 15 fields, saw 22\\nSkipping line 316767: expected 15 fields, saw 22\\nSkipping line 324009: expected 15 fields, saw 22\\n'\n",
      "b'Skipping line 359107: expected 15 fields, saw 22\\nSkipping line 368367: expected 15 fields, saw 22\\nSkipping line 381180: expected 15 fields, saw 22\\nSkipping line 390453: expected 15 fields, saw 22\\n'\n",
      "b'Skipping line 412243: expected 15 fields, saw 22\\nSkipping line 419342: expected 15 fields, saw 22\\nSkipping line 457388: expected 15 fields, saw 22\\n'\n",
      "b'Skipping line 459935: expected 15 fields, saw 22\\nSkipping line 460167: expected 15 fields, saw 22\\nSkipping line 466460: expected 15 fields, saw 22\\nSkipping line 500314: expected 15 fields, saw 22\\nSkipping line 500339: expected 15 fields, saw 22\\nSkipping line 505396: expected 15 fields, saw 22\\nSkipping line 507760: expected 15 fields, saw 22\\nSkipping line 513626: expected 15 fields, saw 22\\n'\n",
      "b'Skipping line 527638: expected 15 fields, saw 22\\nSkipping line 534209: expected 15 fields, saw 22\\nSkipping line 535687: expected 15 fields, saw 22\\nSkipping line 547671: expected 15 fields, saw 22\\nSkipping line 549054: expected 15 fields, saw 22\\n'\n",
      "b'Skipping line 599929: expected 15 fields, saw 22\\nSkipping line 604776: expected 15 fields, saw 22\\nSkipping line 609937: expected 15 fields, saw 22\\nSkipping line 632059: expected 15 fields, saw 22\\nSkipping line 638546: expected 15 fields, saw 22\\n'\n",
      "b'Skipping line 665017: expected 15 fields, saw 22\\nSkipping line 677680: expected 15 fields, saw 22\\nSkipping line 684370: expected 15 fields, saw 22\\nSkipping line 720217: expected 15 fields, saw 29\\n'\n",
      "b'Skipping line 723240: expected 15 fields, saw 22\\nSkipping line 723433: expected 15 fields, saw 22\\nSkipping line 763891: expected 15 fields, saw 22\\n'\n",
      "b'Skipping line 800288: expected 15 fields, saw 22\\nSkipping line 802942: expected 15 fields, saw 22\\nSkipping line 803379: expected 15 fields, saw 22\\nSkipping line 805122: expected 15 fields, saw 22\\nSkipping line 821899: expected 15 fields, saw 22\\nSkipping line 831707: expected 15 fields, saw 22\\nSkipping line 842829: expected 15 fields, saw 22\\nSkipping line 843604: expected 15 fields, saw 22\\n'\n",
      "b'Skipping line 863904: expected 15 fields, saw 22\\nSkipping line 875655: expected 15 fields, saw 22\\nSkipping line 886796: expected 15 fields, saw 22\\nSkipping line 892299: expected 15 fields, saw 22\\nSkipping line 902518: expected 15 fields, saw 22\\nSkipping line 903079: expected 15 fields, saw 22\\nSkipping line 912678: expected 15 fields, saw 22\\n'\n",
      "b'Skipping line 932953: expected 15 fields, saw 22\\nSkipping line 936838: expected 15 fields, saw 22\\nSkipping line 937177: expected 15 fields, saw 22\\nSkipping line 947695: expected 15 fields, saw 22\\nSkipping line 960713: expected 15 fields, saw 22\\nSkipping line 965225: expected 15 fields, saw 22\\nSkipping line 980776: expected 15 fields, saw 22\\n'\n",
      "b'Skipping line 999318: expected 15 fields, saw 22\\nSkipping line 1007247: expected 15 fields, saw 22\\nSkipping line 1015987: expected 15 fields, saw 22\\nSkipping line 1018984: expected 15 fields, saw 22\\nSkipping line 1028671: expected 15 fields, saw 22\\n'\n",
      "b'Skipping line 1063360: expected 15 fields, saw 22\\nSkipping line 1066195: expected 15 fields, saw 22\\nSkipping line 1066578: expected 15 fields, saw 22\\nSkipping line 1066869: expected 15 fields, saw 22\\nSkipping line 1068809: expected 15 fields, saw 22\\nSkipping line 1069505: expected 15 fields, saw 22\\nSkipping line 1087983: expected 15 fields, saw 22\\nSkipping line 1108184: expected 15 fields, saw 22\\n'\n",
      "b'Skipping line 1118137: expected 15 fields, saw 22\\nSkipping line 1142723: expected 15 fields, saw 22\\nSkipping line 1152492: expected 15 fields, saw 22\\nSkipping line 1156947: expected 15 fields, saw 22\\nSkipping line 1172563: expected 15 fields, saw 22\\n'\n",
      "b'Skipping line 1209254: expected 15 fields, saw 22\\nSkipping line 1212966: expected 15 fields, saw 22\\nSkipping line 1236533: expected 15 fields, saw 22\\nSkipping line 1237598: expected 15 fields, saw 22\\n'\n",
      "b'Skipping line 1273825: expected 15 fields, saw 22\\nSkipping line 1277898: expected 15 fields, saw 22\\nSkipping line 1283654: expected 15 fields, saw 22\\nSkipping line 1286023: expected 15 fields, saw 22\\nSkipping line 1302038: expected 15 fields, saw 22\\nSkipping line 1305179: expected 15 fields, saw 22\\n'\n",
      "b'Skipping line 1326022: expected 15 fields, saw 22\\nSkipping line 1338120: expected 15 fields, saw 22\\nSkipping line 1338503: expected 15 fields, saw 22\\nSkipping line 1338849: expected 15 fields, saw 22\\nSkipping line 1341513: expected 15 fields, saw 22\\nSkipping line 1346493: expected 15 fields, saw 22\\nSkipping line 1373127: expected 15 fields, saw 22\\n'\n",
      "b'Skipping line 1389508: expected 15 fields, saw 22\\nSkipping line 1413951: expected 15 fields, saw 22\\nSkipping line 1433626: expected 15 fields, saw 22\\n'\n",
      "b'Skipping line 1442698: expected 15 fields, saw 22\\nSkipping line 1472982: expected 15 fields, saw 22\\nSkipping line 1482282: expected 15 fields, saw 22\\nSkipping line 1487808: expected 15 fields, saw 22\\nSkipping line 1500636: expected 15 fields, saw 22\\n'\n",
      "b'Skipping line 1511479: expected 15 fields, saw 22\\nSkipping line 1532302: expected 15 fields, saw 22\\nSkipping line 1537952: expected 15 fields, saw 22\\nSkipping line 1539951: expected 15 fields, saw 22\\nSkipping line 1541020: expected 15 fields, saw 22\\n'\n",
      "b'Skipping line 1594217: expected 15 fields, saw 22\\nSkipping line 1612264: expected 15 fields, saw 22\\nSkipping line 1615907: expected 15 fields, saw 22\\nSkipping line 1621859: expected 15 fields, saw 22\\n'\n",
      "b'Skipping line 1653542: expected 15 fields, saw 22\\nSkipping line 1671537: expected 15 fields, saw 22\\nSkipping line 1672879: expected 15 fields, saw 22\\nSkipping line 1674523: expected 15 fields, saw 22\\nSkipping line 1677355: expected 15 fields, saw 22\\nSkipping line 1703907: expected 15 fields, saw 22\\n'\n",
      "b'Skipping line 1713046: expected 15 fields, saw 22\\nSkipping line 1722982: expected 15 fields, saw 22\\nSkipping line 1727290: expected 15 fields, saw 22\\nSkipping line 1744482: expected 15 fields, saw 22\\n'\n",
      "b'Skipping line 1803858: expected 15 fields, saw 22\\nSkipping line 1810069: expected 15 fields, saw 22\\nSkipping line 1829751: expected 15 fields, saw 22\\nSkipping line 1831699: expected 15 fields, saw 22\\n'\n",
      "b'Skipping line 1863131: expected 15 fields, saw 22\\nSkipping line 1867917: expected 15 fields, saw 22\\nSkipping line 1874790: expected 15 fields, saw 22\\nSkipping line 1879952: expected 15 fields, saw 22\\nSkipping line 1880501: expected 15 fields, saw 22\\nSkipping line 1886655: expected 15 fields, saw 22\\nSkipping line 1887888: expected 15 fields, saw 22\\nSkipping line 1894286: expected 15 fields, saw 22\\nSkipping line 1895400: expected 15 fields, saw 22\\n'\n",
      "b'Skipping line 1904040: expected 15 fields, saw 22\\nSkipping line 1907604: expected 15 fields, saw 22\\nSkipping line 1915739: expected 15 fields, saw 22\\nSkipping line 1921514: expected 15 fields, saw 22\\nSkipping line 1939428: expected 15 fields, saw 22\\nSkipping line 1944342: expected 15 fields, saw 22\\nSkipping line 1949699: expected 15 fields, saw 22\\nSkipping line 1961872: expected 15 fields, saw 22\\n'\n"
     ]
    },
    {
     "name": "stderr",
     "output_type": "stream",
     "text": [
      "b'Skipping line 1968846: expected 15 fields, saw 22\\nSkipping line 1999941: expected 15 fields, saw 22\\nSkipping line 2001492: expected 15 fields, saw 22\\nSkipping line 2011204: expected 15 fields, saw 22\\nSkipping line 2025295: expected 15 fields, saw 22\\n'\n",
      "b'Skipping line 2041266: expected 15 fields, saw 22\\nSkipping line 2073314: expected 15 fields, saw 22\\nSkipping line 2080133: expected 15 fields, saw 22\\nSkipping line 2088521: expected 15 fields, saw 22\\n'\n",
      "b'Skipping line 2103490: expected 15 fields, saw 22\\nSkipping line 2115278: expected 15 fields, saw 22\\nSkipping line 2153174: expected 15 fields, saw 22\\nSkipping line 2161731: expected 15 fields, saw 22\\n'\n",
      "b'Skipping line 2165250: expected 15 fields, saw 22\\nSkipping line 2175132: expected 15 fields, saw 22\\nSkipping line 2206817: expected 15 fields, saw 22\\nSkipping line 2215848: expected 15 fields, saw 22\\nSkipping line 2223811: expected 15 fields, saw 22\\n'\n",
      "b'Skipping line 2257265: expected 15 fields, saw 22\\nSkipping line 2259163: expected 15 fields, saw 22\\nSkipping line 2263291: expected 15 fields, saw 22\\n'\n",
      "b'Skipping line 2301943: expected 15 fields, saw 22\\nSkipping line 2304371: expected 15 fields, saw 22\\nSkipping line 2306015: expected 15 fields, saw 22\\nSkipping line 2312186: expected 15 fields, saw 22\\nSkipping line 2314740: expected 15 fields, saw 22\\nSkipping line 2317754: expected 15 fields, saw 22\\n'\n",
      "b'Skipping line 2383514: expected 15 fields, saw 22\\n'\n",
      "b'Skipping line 2449763: expected 15 fields, saw 22\\n'\n",
      "b'Skipping line 2589323: expected 15 fields, saw 22\\n'\n",
      "b'Skipping line 2775036: expected 15 fields, saw 22\\n'\n",
      "b'Skipping line 2935174: expected 15 fields, saw 22\\n'\n",
      "b'Skipping line 3078830: expected 15 fields, saw 22\\n'\n",
      "b'Skipping line 3123091: expected 15 fields, saw 22\\n'\n",
      "b'Skipping line 3185533: expected 15 fields, saw 22\\n'\n",
      "b'Skipping line 4150395: expected 15 fields, saw 22\\n'\n",
      "b'Skipping line 4748401: expected 15 fields, saw 22\\n'\n"
     ]
    }
   ],
   "source": [
    "#loading dataset\n",
    "# data = pd.read_table('amazon_reviews_us_Kitchen_v1_00.tsv')\n",
    "\n",
    "df = pd.read_csv('amazon_reviews_us_Kitchen_v1_00.tsv', sep='\\t', error_bad_lines=False)"
   ]
  },
  {
   "cell_type": "markdown",
   "metadata": {},
   "source": [
    "## Keep Reviews and Ratings"
   ]
  },
  {
   "cell_type": "code",
   "execution_count": 7,
   "metadata": {},
   "outputs": [],
   "source": [
    "data = df[[\"review_id\",\"review_body\", \"star_rating\"]]\n",
    "# print(data.info())\n",
    "data=data.dropna(subset=['review_body'])\n",
    "# print(data.info())"
   ]
  },
  {
   "cell_type": "markdown",
   "metadata": {},
   "source": [
    "# Labelling Reviews:\n",
    "## The reviews with rating 4,5 are labelled to be 1 and 1,2 are labelled as 0. Discard the reviews with rating 3'"
   ]
  },
  {
   "cell_type": "code",
   "execution_count": 8,
   "metadata": {},
   "outputs": [
    {
     "name": "stdout",
     "output_type": "stream",
     "text": [
      "Neutral Reviews:  349539\n"
     ]
    }
   ],
   "source": [
    "discarded_count = len(data[data['star_rating'] == 3.0])\n",
    "# print(\"Neutral Reviews: \", discarded_count)"
   ]
  },
  {
   "cell_type": "code",
   "execution_count": 9,
   "metadata": {},
   "outputs": [
    {
     "name": "stdout",
     "output_type": "stream",
     "text": [
      "<class 'pandas.core.frame.DataFrame'>\n",
      "Int64Index: 4525105 entries, 0 to 4874889\n",
      "Data columns (total 3 columns):\n",
      " #   Column       Dtype  \n",
      "---  ------       -----  \n",
      " 0   review_id    object \n",
      " 1   review_body  object \n",
      " 2   star_rating  float64\n",
      "dtypes: float64(1), object(2)\n",
      "memory usage: 138.1+ MB\n",
      "None\n"
     ]
    }
   ],
   "source": [
    "data.drop(data[data['star_rating'] == 3.0].index, inplace = True)\n",
    "# print(data.info())\n",
    "\n",
    "data['label'] = np.where(data['star_rating']>=4.0, 1, 0)\n",
    "# data.head(10)"
   ]
  },
  {
   "cell_type": "markdown",
   "metadata": {},
   "source": [
    " ## We select 200000 reviews randomly with 100,000 positive and 100,000 negative reviews.\n",
    "\n"
   ]
  },
  {
   "cell_type": "code",
   "execution_count": 10,
   "metadata": {
    "scrolled": true
   },
   "outputs": [
    {
     "name": "stdout",
     "output_type": "stream",
     "text": [
      "Positive Reviews:  3856296\n",
      "Negative Reviews:  668809\n"
     ]
    }
   ],
   "source": [
    "pos_data = data[data['label']==1]\n",
    "neg_data = data[data['label']==0]\n",
    "\n",
    "# print(\"Positive Reviews: \", len(pos_data))\n",
    "# print(\"Negative Reviews: \", len(neg_data))\n",
    "\n",
    "pos = pos_data.sample(n=100000, random_state=1)\n",
    "neg = neg_data.sample(n=100000, random_state=1)\n",
    "\n",
    "data_both = pd.concat([pos, neg], ignore_index=True)\n",
    "data_both = data_both.sample(frac=1).reset_index(drop=True)\n",
    "# data_both.head(10)"
   ]
  },
  {
   "cell_type": "code",
   "execution_count": 12,
   "metadata": {},
   "outputs": [
    {
     "name": "stdout",
     "output_type": "stream",
     "text": [
      "BEFORE CLEANING\n",
      "It is as pictured.  It is cool, unique gift idea.  I also purchased &#34;The Best Ice Mold&#34; (Amazon) and the round ice ball fits perfectly in this glass.  This was a birthday themed idea that I put together for my husband.  I also purchased  a bottle of Markers Mark whiskey (local) and a MM glass and coaster (Amazon).  He really liked it.  FYI: I also bought some real good cigars (locally) and a travel humidor (Amazon). to round out the whole theme....because lets face it, buying a surprise birthday gift for my husband of 30 years is a challenge LoL but a fun one.  I really scored with this theme. :-), length: 612\n",
      " The tags are satin finish and very hard to write on. Either the ink wipes off (sharpie) or is hard to write on (ball point)., length: 124\n",
      " This was really cheap made. It serves the purpose but tore very easily, length: 70\n",
      "\n",
      "Average review length before processing: 323.274835\n"
     ]
    }
   ],
   "source": [
    "from statistics import mean\n",
    "\n",
    "data_both['review_body'] = data_both['review_body'].astype(str)\n",
    "\n",
    "avg_len1 = mean([len(s) for s in data_both[\"review_body\"]])\n",
    "\n",
    "#before cleaing and pre-processing\n",
    "# print(\"BEFORE CLEANING\")\n",
    "# print(*[rev+\", length: \"+str(len(rev))+\"\\n\" for rev in data_both[\"review_body\"].head(3)])\n",
    "# print(\"Average review length before processing: \"+ str(avg_len1))"
   ]
  },
  {
   "cell_type": "markdown",
   "metadata": {},
   "source": [
    "# Data Cleaning"
   ]
  },
  {
   "cell_type": "code",
   "execution_count": 13,
   "metadata": {},
   "outputs": [
    {
     "data": {
      "text/html": [
       "<div>\n",
       "<style scoped>\n",
       "    .dataframe tbody tr th:only-of-type {\n",
       "        vertical-align: middle;\n",
       "    }\n",
       "\n",
       "    .dataframe tbody tr th {\n",
       "        vertical-align: top;\n",
       "    }\n",
       "\n",
       "    .dataframe thead th {\n",
       "        text-align: right;\n",
       "    }\n",
       "</style>\n",
       "<table border=\"1\" class=\"dataframe\">\n",
       "  <thead>\n",
       "    <tr style=\"text-align: right;\">\n",
       "      <th></th>\n",
       "      <th>review_id</th>\n",
       "      <th>review_body</th>\n",
       "      <th>star_rating</th>\n",
       "      <th>label</th>\n",
       "    </tr>\n",
       "  </thead>\n",
       "  <tbody>\n",
       "    <tr>\n",
       "      <th>0</th>\n",
       "      <td>RZMWGGF37ISTO</td>\n",
       "      <td>it is as pictured it is cool unique gift idea ...</td>\n",
       "      <td>4.0</td>\n",
       "      <td>1</td>\n",
       "    </tr>\n",
       "    <tr>\n",
       "      <th>1</th>\n",
       "      <td>R3BN73A6RT3LFP</td>\n",
       "      <td>the tags are satin finish and very hard to wri...</td>\n",
       "      <td>1.0</td>\n",
       "      <td>0</td>\n",
       "    </tr>\n",
       "    <tr>\n",
       "      <th>2</th>\n",
       "      <td>R1QRZ3W59ZMREX</td>\n",
       "      <td>this was really cheap made it serves the purpo...</td>\n",
       "      <td>2.0</td>\n",
       "      <td>0</td>\n",
       "    </tr>\n",
       "    <tr>\n",
       "      <th>3</th>\n",
       "      <td>R1T1KAXBW2HJEC</td>\n",
       "      <td>this product was shipped as a present to carry...</td>\n",
       "      <td>1.0</td>\n",
       "      <td>0</td>\n",
       "    </tr>\n",
       "    <tr>\n",
       "      <th>4</th>\n",
       "      <td>R1IP7DH28CEL72</td>\n",
       "      <td>unacceptable for my cooktop which requires tha...</td>\n",
       "      <td>1.0</td>\n",
       "      <td>0</td>\n",
       "    </tr>\n",
       "    <tr>\n",
       "      <th>5</th>\n",
       "      <td>R2W5RCO3L4VBHH</td>\n",
       "      <td>the only downside i see is that it takes up a ...</td>\n",
       "      <td>5.0</td>\n",
       "      <td>1</td>\n",
       "    </tr>\n",
       "    <tr>\n",
       "      <th>6</th>\n",
       "      <td>R1NIVXSOO7SH3J</td>\n",
       "      <td>i'm shocked this has good reviews i just got i...</td>\n",
       "      <td>2.0</td>\n",
       "      <td>0</td>\n",
       "    </tr>\n",
       "    <tr>\n",
       "      <th>7</th>\n",
       "      <td>R1RSNTGPQMLK2U</td>\n",
       "      <td>really like this pan perfect for large dishes ...</td>\n",
       "      <td>4.0</td>\n",
       "      <td>1</td>\n",
       "    </tr>\n",
       "    <tr>\n",
       "      <th>8</th>\n",
       "      <td>R3QFR9AAC4DGWQ</td>\n",
       "      <td>i purchased these when they were advertised as...</td>\n",
       "      <td>2.0</td>\n",
       "      <td>0</td>\n",
       "    </tr>\n",
       "    <tr>\n",
       "      <th>9</th>\n",
       "      <td>R256OUIH0I1QXW</td>\n",
       "      <td>quite large and a little cheap looking i have ...</td>\n",
       "      <td>2.0</td>\n",
       "      <td>0</td>\n",
       "    </tr>\n",
       "  </tbody>\n",
       "</table>\n",
       "</div>"
      ],
      "text/plain": [
       "        review_id                                        review_body  \\\n",
       "0   RZMWGGF37ISTO  it is as pictured it is cool unique gift idea ...   \n",
       "1  R3BN73A6RT3LFP  the tags are satin finish and very hard to wri...   \n",
       "2  R1QRZ3W59ZMREX  this was really cheap made it serves the purpo...   \n",
       "3  R1T1KAXBW2HJEC  this product was shipped as a present to carry...   \n",
       "4  R1IP7DH28CEL72  unacceptable for my cooktop which requires tha...   \n",
       "5  R2W5RCO3L4VBHH  the only downside i see is that it takes up a ...   \n",
       "6  R1NIVXSOO7SH3J  i'm shocked this has good reviews i just got i...   \n",
       "7  R1RSNTGPQMLK2U  really like this pan perfect for large dishes ...   \n",
       "8  R3QFR9AAC4DGWQ  i purchased these when they were advertised as...   \n",
       "9  R256OUIH0I1QXW  quite large and a little cheap looking i have ...   \n",
       "\n",
       "   star_rating  label  \n",
       "0          4.0      1  \n",
       "1          1.0      0  \n",
       "2          2.0      0  \n",
       "3          1.0      0  \n",
       "4          1.0      0  \n",
       "5          5.0      1  \n",
       "6          2.0      0  \n",
       "7          4.0      1  \n",
       "8          2.0      0  \n",
       "9          2.0      0  "
      ]
     },
     "execution_count": 13,
     "metadata": {},
     "output_type": "execute_result"
    }
   ],
   "source": [
    "#regexs for expressions to be removed\n",
    "replace_url = re.compile(r'https?:\\/\\/.*[\\r\\n]*')\n",
    "remove_href = re.compile(r'\\<a href')\n",
    "remove_amp = re.compile(r'&amp;') \n",
    "remove_sym = re.compile(r'[_\"\\-;%()|+&=*%.,~!?:#$\\[\\]/]')\n",
    "remove_br = re.compile(r'<br />')\n",
    "remove_space = re.compile(r' +')\n",
    "replace_brackets = re.compile('[/(){}\\[\\]\\|,;+_-]')\n",
    "remove_numbers = re.compile(\"[\\d]\")\n",
    "\n",
    "\n",
    "def cleaning_text(text):\n",
    "    text = text.lower() # lowercase text\n",
    "    text = replace_url.sub(\"\", text) # delete URLs from text\n",
    "    text = remove_numbers.sub(\"\", text) # delete numbers tags from text\n",
    "    text = remove_href.sub('', text) # delete HTML tags from text\n",
    "    text = remove_amp.sub('', text) # delete \"&\" from text\n",
    "    text = remove_sym.sub(' ', text)# replace \"remove_sym\" symbols by space in text\n",
    "    text = remove_br.sub(' ', text) # delete HTML tags from text\n",
    "    text = replace_brackets.sub(' ', text) # replace \"replace_brackets\" symbols by space in text\n",
    "    text = remove_space.sub(' ', text)\n",
    "    \n",
    "    return text\n",
    "\n",
    "#applying all the above cleaning to the dataset\n",
    "data_both['review_body'] = data_both['review_body'].apply(cleaning_text)\n",
    "# data_both.head(10)"
   ]
  },
  {
   "cell_type": "markdown",
   "metadata": {},
   "source": [
    "## perform contractions on the reviews."
   ]
  },
  {
   "cell_type": "code",
   "execution_count": 14,
   "metadata": {},
   "outputs": [
    {
     "data": {
      "text/html": [
       "<div>\n",
       "<style scoped>\n",
       "    .dataframe tbody tr th:only-of-type {\n",
       "        vertical-align: middle;\n",
       "    }\n",
       "\n",
       "    .dataframe tbody tr th {\n",
       "        vertical-align: top;\n",
       "    }\n",
       "\n",
       "    .dataframe thead th {\n",
       "        text-align: right;\n",
       "    }\n",
       "</style>\n",
       "<table border=\"1\" class=\"dataframe\">\n",
       "  <thead>\n",
       "    <tr style=\"text-align: right;\">\n",
       "      <th></th>\n",
       "      <th>review_id</th>\n",
       "      <th>review_body</th>\n",
       "      <th>star_rating</th>\n",
       "      <th>label</th>\n",
       "    </tr>\n",
       "  </thead>\n",
       "  <tbody>\n",
       "    <tr>\n",
       "      <th>0</th>\n",
       "      <td>RZMWGGF37ISTO</td>\n",
       "      <td>it is as pictured it is cool unique gift idea ...</td>\n",
       "      <td>4.0</td>\n",
       "      <td>1</td>\n",
       "    </tr>\n",
       "    <tr>\n",
       "      <th>1</th>\n",
       "      <td>R3BN73A6RT3LFP</td>\n",
       "      <td>the tags are satin finish and very hard to wri...</td>\n",
       "      <td>1.0</td>\n",
       "      <td>0</td>\n",
       "    </tr>\n",
       "    <tr>\n",
       "      <th>2</th>\n",
       "      <td>R1QRZ3W59ZMREX</td>\n",
       "      <td>this was really cheap made it serves the purpo...</td>\n",
       "      <td>2.0</td>\n",
       "      <td>0</td>\n",
       "    </tr>\n",
       "    <tr>\n",
       "      <th>3</th>\n",
       "      <td>R1T1KAXBW2HJEC</td>\n",
       "      <td>this product was shipped as a present to carry...</td>\n",
       "      <td>1.0</td>\n",
       "      <td>0</td>\n",
       "    </tr>\n",
       "    <tr>\n",
       "      <th>4</th>\n",
       "      <td>R1IP7DH28CEL72</td>\n",
       "      <td>unacceptable for my cooktop which requires tha...</td>\n",
       "      <td>1.0</td>\n",
       "      <td>0</td>\n",
       "    </tr>\n",
       "    <tr>\n",
       "      <th>5</th>\n",
       "      <td>R2W5RCO3L4VBHH</td>\n",
       "      <td>the only downside i see is that it takes up a ...</td>\n",
       "      <td>5.0</td>\n",
       "      <td>1</td>\n",
       "    </tr>\n",
       "    <tr>\n",
       "      <th>6</th>\n",
       "      <td>R1NIVXSOO7SH3J</td>\n",
       "      <td>i am shocked this has good reviews i just got ...</td>\n",
       "      <td>2.0</td>\n",
       "      <td>0</td>\n",
       "    </tr>\n",
       "    <tr>\n",
       "      <th>7</th>\n",
       "      <td>R1RSNTGPQMLK2U</td>\n",
       "      <td>really like this pan perfect for large dishes ...</td>\n",
       "      <td>4.0</td>\n",
       "      <td>1</td>\n",
       "    </tr>\n",
       "    <tr>\n",
       "      <th>8</th>\n",
       "      <td>R3QFR9AAC4DGWQ</td>\n",
       "      <td>i purchased these when they were advertised as...</td>\n",
       "      <td>2.0</td>\n",
       "      <td>0</td>\n",
       "    </tr>\n",
       "    <tr>\n",
       "      <th>9</th>\n",
       "      <td>R256OUIH0I1QXW</td>\n",
       "      <td>quite large and a little cheap looking i have ...</td>\n",
       "      <td>2.0</td>\n",
       "      <td>0</td>\n",
       "    </tr>\n",
       "  </tbody>\n",
       "</table>\n",
       "</div>"
      ],
      "text/plain": [
       "        review_id                                        review_body  \\\n",
       "0   RZMWGGF37ISTO  it is as pictured it is cool unique gift idea ...   \n",
       "1  R3BN73A6RT3LFP  the tags are satin finish and very hard to wri...   \n",
       "2  R1QRZ3W59ZMREX  this was really cheap made it serves the purpo...   \n",
       "3  R1T1KAXBW2HJEC  this product was shipped as a present to carry...   \n",
       "4  R1IP7DH28CEL72  unacceptable for my cooktop which requires tha...   \n",
       "5  R2W5RCO3L4VBHH  the only downside i see is that it takes up a ...   \n",
       "6  R1NIVXSOO7SH3J  i am shocked this has good reviews i just got ...   \n",
       "7  R1RSNTGPQMLK2U  really like this pan perfect for large dishes ...   \n",
       "8  R3QFR9AAC4DGWQ  i purchased these when they were advertised as...   \n",
       "9  R256OUIH0I1QXW  quite large and a little cheap looking i have ...   \n",
       "\n",
       "   star_rating  label  \n",
       "0          4.0      1  \n",
       "1          1.0      0  \n",
       "2          2.0      0  \n",
       "3          1.0      0  \n",
       "4          1.0      0  \n",
       "5          5.0      1  \n",
       "6          2.0      0  \n",
       "7          4.0      1  \n",
       "8          2.0      0  \n",
       "9          2.0      0  "
      ]
     },
     "execution_count": 14,
     "metadata": {},
     "output_type": "execute_result"
    }
   ],
   "source": [
    "def contractionfunction(s):\n",
    "    \n",
    "    s = re.sub(r\"won\\'t\", \"will not\", s)\n",
    "    s = re.sub(r\"can\\'t\", \"can not\", s)\n",
    "    s = re.sub(r\"ain\\'t\", \"are not\", s)\n",
    "    s = re.sub(r\"\\'cause\",\"because\",s)\n",
    "    s = re.sub(r\"let\\'s\", \"let us\",s)\n",
    "    s = re.sub(r\"o\\'clock\", \"of the clock\", s)\n",
    "    s = re.sub(r\"ma\\'am\", \"madam\",s)\n",
    "    \n",
    "    s = re.sub(r\"n\\'t\", \" not\", s)\n",
    "    s = re.sub(r\"\\'re\", \" are\", s)\n",
    "    s = re.sub(r\"\\'s\", \" is\", s)\n",
    "    s = re.sub(r\"\\'d\", \" would\", s)\n",
    "    s = re.sub(r\"\\'ll\", \" will\", s)\n",
    "    s = re.sub(r\"\\'t\", \" not\", s)\n",
    "    s = re.sub(r\"\\'ve\", \" have\", s)\n",
    "    s = re.sub(r\"\\'m\", \" am\", s)\n",
    "    return s\n",
    "\n",
    "data_both['review_body'] = data_both['review_body'].apply(contractionfunction)\n",
    "# data_both.head(10)"
   ]
  },
  {
   "cell_type": "code",
   "execution_count": 15,
   "metadata": {},
   "outputs": [
    {
     "name": "stdout",
     "output_type": "stream",
     "text": [
      "AFTER CLEANING AND BEFORE PREPROCESSING\n",
      "it is as pictured it is cool unique gift idea i also purchased the best ice mold amazon and the round ice ball fits perfectly in this glass this was a birthday themed idea that i put together for my husband i also purchased a bottle of markers mark whiskey local and a mm glass and coaster amazon he really liked it fyi i also bought some real good cigars locally and a travel humidor amazon to round out the whole theme because lets face it buying a surprise birthday gift for my husband of years is a challenge lol but a fun one i really scored with this theme , length: 563\n",
      " the tags are satin finish and very hard to write on either the ink wipes off sharpie or is hard to write on ball point , length: 119\n",
      " this was really cheap made it serves the purpose but tore very easily, length: 69\n",
      "\n",
      "Average review length after cleaning and before processing: 312.739695\n"
     ]
    }
   ],
   "source": [
    "avg_len2 = mean([len(s) for s in data_both[\"review_body\"]])\n",
    "\n",
    "# #before cleaing and pre-processing\n",
    "# print(\"AFTER CLEANING AND BEFORE PREPROCESSING\")\n",
    "# print(*[rev+\", length: \"+str(len(rev))+\"\\n\" for rev in data_both[\"review_body\"].head(3)])\n",
    "# print(\"Average review length after cleaning and before processing: \"+ str(avg_len2))"
   ]
  },
  {
   "cell_type": "markdown",
   "metadata": {},
   "source": [
    "# Pre-processing"
   ]
  },
  {
   "cell_type": "markdown",
   "metadata": {},
   "source": [
    "## remove the stop words "
   ]
  },
  {
   "cell_type": "code",
   "execution_count": 16,
   "metadata": {},
   "outputs": [
    {
     "data": {
      "text/html": [
       "<div>\n",
       "<style scoped>\n",
       "    .dataframe tbody tr th:only-of-type {\n",
       "        vertical-align: middle;\n",
       "    }\n",
       "\n",
       "    .dataframe tbody tr th {\n",
       "        vertical-align: top;\n",
       "    }\n",
       "\n",
       "    .dataframe thead th {\n",
       "        text-align: right;\n",
       "    }\n",
       "</style>\n",
       "<table border=\"1\" class=\"dataframe\">\n",
       "  <thead>\n",
       "    <tr style=\"text-align: right;\">\n",
       "      <th></th>\n",
       "      <th>review_id</th>\n",
       "      <th>review_body</th>\n",
       "      <th>star_rating</th>\n",
       "      <th>label</th>\n",
       "    </tr>\n",
       "  </thead>\n",
       "  <tbody>\n",
       "    <tr>\n",
       "      <th>0</th>\n",
       "      <td>RZMWGGF37ISTO</td>\n",
       "      <td>pictured cool unique gift idea also purchased ...</td>\n",
       "      <td>4.0</td>\n",
       "      <td>1</td>\n",
       "    </tr>\n",
       "    <tr>\n",
       "      <th>1</th>\n",
       "      <td>R3BN73A6RT3LFP</td>\n",
       "      <td>tags satin finish hard write either ink wipes ...</td>\n",
       "      <td>1.0</td>\n",
       "      <td>0</td>\n",
       "    </tr>\n",
       "    <tr>\n",
       "      <th>2</th>\n",
       "      <td>R1QRZ3W59ZMREX</td>\n",
       "      <td>really cheap made serves purpose tore easily</td>\n",
       "      <td>2.0</td>\n",
       "      <td>0</td>\n",
       "    </tr>\n",
       "    <tr>\n",
       "      <th>3</th>\n",
       "      <td>R1T1KAXBW2HJEC</td>\n",
       "      <td>product shipped present carry overseas paid da...</td>\n",
       "      <td>1.0</td>\n",
       "      <td>0</td>\n",
       "    </tr>\n",
       "    <tr>\n",
       "      <th>4</th>\n",
       "      <td>R1IP7DH28CEL72</td>\n",
       "      <td>unacceptable cooktop requires cookware totally...</td>\n",
       "      <td>1.0</td>\n",
       "      <td>0</td>\n",
       "    </tr>\n",
       "    <tr>\n",
       "      <th>5</th>\n",
       "      <td>R2W5RCO3L4VBHH</td>\n",
       "      <td>downside see takes little room kitchen larger ...</td>\n",
       "      <td>5.0</td>\n",
       "      <td>1</td>\n",
       "    </tr>\n",
       "    <tr>\n",
       "      <th>6</th>\n",
       "      <td>R1NIVXSOO7SH3J</td>\n",
       "      <td>shocked good reviews got mail today excited us...</td>\n",
       "      <td>2.0</td>\n",
       "      <td>0</td>\n",
       "    </tr>\n",
       "    <tr>\n",
       "      <th>7</th>\n",
       "      <td>R1RSNTGPQMLK2U</td>\n",
       "      <td>really like pan perfect large dishes used calp...</td>\n",
       "      <td>4.0</td>\n",
       "      <td>1</td>\n",
       "    </tr>\n",
       "    <tr>\n",
       "      <th>8</th>\n",
       "      <td>R3QFR9AAC4DGWQ</td>\n",
       "      <td>purchased advertised popsicle holders pain kno...</td>\n",
       "      <td>2.0</td>\n",
       "      <td>0</td>\n",
       "    </tr>\n",
       "    <tr>\n",
       "      <th>9</th>\n",
       "      <td>R256OUIH0I1QXW</td>\n",
       "      <td>quite large little cheap looking seen much nic...</td>\n",
       "      <td>2.0</td>\n",
       "      <td>0</td>\n",
       "    </tr>\n",
       "  </tbody>\n",
       "</table>\n",
       "</div>"
      ],
      "text/plain": [
       "        review_id                                        review_body  \\\n",
       "0   RZMWGGF37ISTO  pictured cool unique gift idea also purchased ...   \n",
       "1  R3BN73A6RT3LFP  tags satin finish hard write either ink wipes ...   \n",
       "2  R1QRZ3W59ZMREX       really cheap made serves purpose tore easily   \n",
       "3  R1T1KAXBW2HJEC  product shipped present carry overseas paid da...   \n",
       "4  R1IP7DH28CEL72  unacceptable cooktop requires cookware totally...   \n",
       "5  R2W5RCO3L4VBHH  downside see takes little room kitchen larger ...   \n",
       "6  R1NIVXSOO7SH3J  shocked good reviews got mail today excited us...   \n",
       "7  R1RSNTGPQMLK2U  really like pan perfect large dishes used calp...   \n",
       "8  R3QFR9AAC4DGWQ  purchased advertised popsicle holders pain kno...   \n",
       "9  R256OUIH0I1QXW  quite large little cheap looking seen much nic...   \n",
       "\n",
       "   star_rating  label  \n",
       "0          4.0      1  \n",
       "1          1.0      0  \n",
       "2          2.0      0  \n",
       "3          1.0      0  \n",
       "4          1.0      0  \n",
       "5          5.0      1  \n",
       "6          2.0      0  \n",
       "7          4.0      1  \n",
       "8          2.0      0  \n",
       "9          2.0      0  "
      ]
     },
     "execution_count": 16,
     "metadata": {},
     "output_type": "execute_result"
    }
   ],
   "source": [
    "from nltk.corpus import stopwords\n",
    " \n",
    "def remove_stopwords(text):\n",
    "    STOPWORDS = set(stopwords.words('english'))\n",
    "    text = ' '.join(word for word in text.split() if word not in STOPWORDS) # delete stopwors from text\n",
    "    return text\n",
    "\n",
    "data_both['review_body'] = data_both['review_body'].apply(remove_stopwords)\n",
    "# data_both.head(10)"
   ]
  },
  {
   "cell_type": "markdown",
   "metadata": {},
   "source": [
    "## perform tokenization and lemmatization  "
   ]
  },
  {
   "cell_type": "code",
   "execution_count": 17,
   "metadata": {},
   "outputs": [
    {
     "data": {
      "text/html": [
       "<div>\n",
       "<style scoped>\n",
       "    .dataframe tbody tr th:only-of-type {\n",
       "        vertical-align: middle;\n",
       "    }\n",
       "\n",
       "    .dataframe tbody tr th {\n",
       "        vertical-align: top;\n",
       "    }\n",
       "\n",
       "    .dataframe thead th {\n",
       "        text-align: right;\n",
       "    }\n",
       "</style>\n",
       "<table border=\"1\" class=\"dataframe\">\n",
       "  <thead>\n",
       "    <tr style=\"text-align: right;\">\n",
       "      <th></th>\n",
       "      <th>review_id</th>\n",
       "      <th>review_body</th>\n",
       "      <th>star_rating</th>\n",
       "      <th>label</th>\n",
       "    </tr>\n",
       "  </thead>\n",
       "  <tbody>\n",
       "    <tr>\n",
       "      <th>0</th>\n",
       "      <td>RZMWGGF37ISTO</td>\n",
       "      <td>[pictured, cool, unique, gift, idea, also, pur...</td>\n",
       "      <td>4.0</td>\n",
       "      <td>1</td>\n",
       "    </tr>\n",
       "    <tr>\n",
       "      <th>1</th>\n",
       "      <td>R3BN73A6RT3LFP</td>\n",
       "      <td>[tags, satin, finish, hard, write, either, ink...</td>\n",
       "      <td>1.0</td>\n",
       "      <td>0</td>\n",
       "    </tr>\n",
       "    <tr>\n",
       "      <th>2</th>\n",
       "      <td>R1QRZ3W59ZMREX</td>\n",
       "      <td>[really, cheap, made, serves, purpose, tore, e...</td>\n",
       "      <td>2.0</td>\n",
       "      <td>0</td>\n",
       "    </tr>\n",
       "    <tr>\n",
       "      <th>3</th>\n",
       "      <td>R1T1KAXBW2HJEC</td>\n",
       "      <td>[product, shipped, present, carry, overseas, p...</td>\n",
       "      <td>1.0</td>\n",
       "      <td>0</td>\n",
       "    </tr>\n",
       "    <tr>\n",
       "      <th>4</th>\n",
       "      <td>R1IP7DH28CEL72</td>\n",
       "      <td>[unacceptable, cooktop, requires, cookware, to...</td>\n",
       "      <td>1.0</td>\n",
       "      <td>0</td>\n",
       "    </tr>\n",
       "    <tr>\n",
       "      <th>5</th>\n",
       "      <td>R2W5RCO3L4VBHH</td>\n",
       "      <td>[downside, see, takes, little, room, kitchen, ...</td>\n",
       "      <td>5.0</td>\n",
       "      <td>1</td>\n",
       "    </tr>\n",
       "    <tr>\n",
       "      <th>6</th>\n",
       "      <td>R1NIVXSOO7SH3J</td>\n",
       "      <td>[shocked, good, reviews, got, mail, today, exc...</td>\n",
       "      <td>2.0</td>\n",
       "      <td>0</td>\n",
       "    </tr>\n",
       "    <tr>\n",
       "      <th>7</th>\n",
       "      <td>R1RSNTGPQMLK2U</td>\n",
       "      <td>[really, like, pan, perfect, large, dishes, us...</td>\n",
       "      <td>4.0</td>\n",
       "      <td>1</td>\n",
       "    </tr>\n",
       "    <tr>\n",
       "      <th>8</th>\n",
       "      <td>R3QFR9AAC4DGWQ</td>\n",
       "      <td>[purchased, advertised, popsicle, holders, pai...</td>\n",
       "      <td>2.0</td>\n",
       "      <td>0</td>\n",
       "    </tr>\n",
       "    <tr>\n",
       "      <th>9</th>\n",
       "      <td>R256OUIH0I1QXW</td>\n",
       "      <td>[quite, large, little, cheap, looking, seen, m...</td>\n",
       "      <td>2.0</td>\n",
       "      <td>0</td>\n",
       "    </tr>\n",
       "  </tbody>\n",
       "</table>\n",
       "</div>"
      ],
      "text/plain": [
       "        review_id                                        review_body  \\\n",
       "0   RZMWGGF37ISTO  [pictured, cool, unique, gift, idea, also, pur...   \n",
       "1  R3BN73A6RT3LFP  [tags, satin, finish, hard, write, either, ink...   \n",
       "2  R1QRZ3W59ZMREX  [really, cheap, made, serves, purpose, tore, e...   \n",
       "3  R1T1KAXBW2HJEC  [product, shipped, present, carry, overseas, p...   \n",
       "4  R1IP7DH28CEL72  [unacceptable, cooktop, requires, cookware, to...   \n",
       "5  R2W5RCO3L4VBHH  [downside, see, takes, little, room, kitchen, ...   \n",
       "6  R1NIVXSOO7SH3J  [shocked, good, reviews, got, mail, today, exc...   \n",
       "7  R1RSNTGPQMLK2U  [really, like, pan, perfect, large, dishes, us...   \n",
       "8  R3QFR9AAC4DGWQ  [purchased, advertised, popsicle, holders, pai...   \n",
       "9  R256OUIH0I1QXW  [quite, large, little, cheap, looking, seen, m...   \n",
       "\n",
       "   star_rating  label  \n",
       "0          4.0      1  \n",
       "1          1.0      0  \n",
       "2          2.0      0  \n",
       "3          1.0      0  \n",
       "4          1.0      0  \n",
       "5          5.0      1  \n",
       "6          2.0      0  \n",
       "7          4.0      1  \n",
       "8          2.0      0  \n",
       "9          2.0      0  "
      ]
     },
     "execution_count": 17,
     "metadata": {},
     "output_type": "execute_result"
    }
   ],
   "source": [
    "from nltk.stem import WordNetLemmatizer\n",
    "from nltk.tokenize import TweetTokenizer\n",
    "from nltk.stem import PorterStemmer\n",
    "\n",
    "#creating an tokenizer object\n",
    "text_tokenizer = TweetTokenizer(strip_handles=True, reduce_len=True)\n",
    "\n",
    "def tokenize_text(text):\n",
    "    #tokenize text\n",
    "    review_tokens = text_tokenizer.tokenize(text)\n",
    "    \n",
    "    return review_tokens\n",
    "    \n",
    "#tokenizing each review in the dataset\n",
    "data_both['review_body'] = data_both['review_body'].apply(tokenize_text)\n",
    "# data_both.head(10)"
   ]
  },
  {
   "cell_type": "code",
   "execution_count": 18,
   "metadata": {},
   "outputs": [],
   "source": [
    "#stemmer object\n",
    "stemmer=PorterStemmer()\n",
    "\n",
    "#Lemmatizer object \n",
    "lemmmatizer=WordNetLemmatizer()\n",
    "\n",
    "def lemmatize_tokens(tokens):\n",
    "    #stemming\n",
    "    stemmed_tokens=[stemmer.stem(t) for t in tokens]\n",
    "\n",
    "    #Stemming with lemmatization\n",
    "    lemmatized_tokens = [lemmmatizer.lemmatize(st) for st in stemmed_tokens]\n",
    "    lemmatize_review = ' '.join(lemmatized_tokens)\n",
    "    \n",
    "    return lemmatize_review\n",
    "    \n",
    "data_both['review_body'] = data_both['review_body'].apply(lemmatize_tokens)"
   ]
  },
  {
   "cell_type": "code",
   "execution_count": 19,
   "metadata": {},
   "outputs": [
    {
     "name": "stdout",
     "output_type": "stream",
     "text": [
      "AFTER PREPROCESSING\n",
      "pictur cool uniqu gift idea also purchas best ice mold amazon round ice ball fit perfectli glass birthday theme idea put togeth husband also purchas bottl marker mark whiskey local mm glass coaster amazon realli like fyi also bought real good cigar local travel humidor amazon round whole theme let face buy surpris birthday gift husband year challeng lol fun one realli score theme, length: 382\n",
      " tag satin finish hard write either ink wipe sharpi hard write ball point, length: 72\n",
      " realli cheap made serv purpos tore easili, length: 41\n",
      "\n",
      "Average review lentgh after processing: 176.841055\n"
     ]
    }
   ],
   "source": [
    "from statistics import mean\n",
    "\n",
    "avg_len3 = mean([len(s) for s in data_both[\"review_body\"]])\n",
    "\n",
    "# #after cleaing and pre-processing\n",
    "# print(\"AFTER PREPROCESSING\")\n",
    "# print(*[rev+\", length: \"+str(len(rev))+\"\\n\" for rev in data_both[\"review_body\"].head(3)])\n",
    "# print(\"Average review lentgh after processing: \"+ str(avg_len3))"
   ]
  },
  {
   "cell_type": "code",
   "execution_count": 20,
   "metadata": {},
   "outputs": [],
   "source": [
    "from sklearn.model_selection import train_test_split\n",
    "\n",
    "#splitting the dataset into train and test sets\n",
    "X = data_both.review_body\n",
    "y = data_both.label\n",
    "X_train, X_test, y_train, y_test = train_test_split(X, y, test_size=0.2)"
   ]
  },
  {
   "cell_type": "markdown",
   "metadata": {},
   "source": [
    "# Perceptron"
   ]
  },
  {
   "cell_type": "code",
   "execution_count": 22,
   "metadata": {},
   "outputs": [
    {
     "name": "stdout",
     "output_type": "stream",
     "text": [
      "---PERCEPTRON---\n",
      "Train Accuracy: 0.88214375\n",
      "Train Precision: 0.910613269396471\n",
      "Train Recall: 0.8617466320018908\n",
      "Train F1: 0.885506287227002 \n",
      "\n",
      "Test Accuracy: 0.84735\n",
      "Test Precision: 0.8781185683449626\n",
      "Test Recall: 0.8262717868782768\n",
      "Test F1: 0.8514065998247835\n"
     ]
    }
   ],
   "source": [
    "from sklearn.pipeline import Pipeline\n",
    "from sklearn.feature_extraction.text import CountVectorizer, TfidfTransformer\n",
    "from sklearn.metrics import accuracy_score, precision_score, recall_score, f1_score\n",
    "from sklearn.linear_model import Perceptron\n",
    "\n",
    "#perceptron for reviews\n",
    "perceptron = Pipeline([('vect', CountVectorizer()),\n",
    "                ('tfidf', TfidfTransformer()),\n",
    "                ('clf', Perceptron(tol=1e-3, random_state=0)),\n",
    "               ])\n",
    "#training the model\n",
    "perceptron.fit(X_train, y_train)\n",
    "\n",
    "# print(\"---PERCEPTRON---\")\n",
    "#predicting the classes on train\n",
    "y_pred_perceptron_train = perceptron.predict(X_train)\n",
    "\n",
    "# #metrics\n",
    "# print('Train Accuracy: %s' % accuracy_score(y_pred_perceptron_train, y_train))\n",
    "# print('Train Precision: %s' % precision_score(y_pred_perceptron_train, y_train))\n",
    "# print('Train Recall: %s' % recall_score(y_pred_perceptron_train, y_train))\n",
    "# print('Train F1: %s \\n' % f1_score(y_pred_perceptron_train, y_train))\n",
    "\n",
    "#predicting the classes on test\n",
    "y_pred_perceptron = perceptron.predict(X_test)\n",
    "\n",
    "#metrics\n",
    "# print('Test Accuracy: %s' % accuracy_score(y_pred_perceptron, y_test))\n",
    "# print('Test Precision: %s' % precision_score(y_pred_perceptron, y_test))\n",
    "# print('Test Recall: %s' % recall_score(y_pred_perceptron, y_test))\n",
    "# print('Test F1: %s' % f1_score(y_pred_perceptron, y_test))"
   ]
  },
  {
   "cell_type": "markdown",
   "metadata": {},
   "source": [
    "# SVM"
   ]
  },
  {
   "cell_type": "code",
   "execution_count": 23,
   "metadata": {},
   "outputs": [
    {
     "name": "stdout",
     "output_type": "stream",
     "text": [
      "---SVM---\n",
      "Train Accuracy: 0.91041875\n",
      "Train Precision: 0.9053559609885238\n",
      "Train Recall: 0.9147803265450324\n",
      "Train F1: 0.9100437448613908 \n",
      "\n",
      "Test Accuracy: 0.893275\n",
      "Test Precision: 0.8891119923698609\n",
      "Test Recall: 0.8958122597612785\n",
      "Test F1: 0.8924495502985413\n"
     ]
    }
   ],
   "source": [
    "#SVM classifier for reviews\n",
    "from sklearn.linear_model import SGDClassifier\n",
    "\n",
    "svm_classifier = Pipeline([('vect', CountVectorizer()),\n",
    "                ('tfidf', TfidfTransformer()),\n",
    "                ('clf', SGDClassifier(loss='hinge', penalty='l2',alpha=1e-5, max_iter=100, tol=None)),\n",
    "               ])\n",
    "#training the model\n",
    "svm_classifier.fit(X_train, y_train)\n",
    "\n",
    "# print(\"---SVM---\")\n",
    "#predicting the classes on train\n",
    "y_pred_svm_train = svm_classifier.predict(X_train)\n",
    "\n",
    "#metrics\n",
    "# print('Train Accuracy: %s' % accuracy_score(y_pred_svm_train, y_train))\n",
    "# print('Train Precision: %s' % precision_score(y_pred_svm_train, y_train))\n",
    "# print('Train Recall: %s' % recall_score(y_pred_svm_train, y_train))\n",
    "# print('Train F1: %s \\n' % f1_score(y_pred_svm_train, y_train))\n",
    "\n",
    "#predicting the classes on test\n",
    "y_pred_svm = svm_classifier.predict(X_test)\n",
    "\n",
    "#metrics\n",
    "# print('Test Accuracy: %s' % accuracy_score(y_pred_svm, y_test))\n",
    "# print('Test Precision: %s' % precision_score(y_pred_svm, y_test))\n",
    "# print('Test Recall: %s' % recall_score(y_pred_svm, y_test))\n",
    "# print('Test F1: %s' % f1_score(y_pred_svm, y_test))"
   ]
  },
  {
   "cell_type": "markdown",
   "metadata": {},
   "source": [
    "# Logistic Regression"
   ]
  },
  {
   "cell_type": "code",
   "execution_count": 24,
   "metadata": {},
   "outputs": [
    {
     "name": "stdout",
     "output_type": "stream",
     "text": [
      "---LR---\n",
      "Train Accuracy: 0.9239125\n",
      "Train Precision: 0.9226264064236567\n",
      "Train Recall: 0.9251449393320895\n",
      "Train F1: 0.9238839564836815 \n",
      "\n",
      "Test Accuracy: 0.881875\n",
      "Test Precision: 0.8807790773555544\n",
      "Test Recall: 0.8818858061921995\n",
      "Test F1: 0.8813320943315669\n"
     ]
    }
   ],
   "source": [
    "#logistic regression model for reviews\n",
    "from sklearn.linear_model import LogisticRegression\n",
    "\n",
    "log_reg = Pipeline([('vect', CountVectorizer()),\n",
    "                ('tfidf', TfidfTransformer()),\n",
    "                ('clf', LogisticRegression(n_jobs=5, C=1e6)),\n",
    "               ])\n",
    "#training the model\n",
    "log_reg.fit(X_train, y_train)\n",
    "\n",
    "# print(\"---LR---\")\n",
    "\n",
    "#predicting the classes on train\n",
    "y_pred_lr_train = log_reg.predict(X_train)\n",
    "\n",
    "#metrics\n",
    "# print('Train Accuracy: %s' % accuracy_score(y_pred_lr_train, y_train))\n",
    "# print('Train Precision: %s' % precision_score(y_pred_lr_train, y_train))\n",
    "# print('Train Recall: %s' % recall_score(y_pred_lr_train, y_train))\n",
    "# print('Train F1: %s \\n' % f1_score(y_pred_lr_train, y_train))\n",
    "\n",
    "#predicting the classes on test\n",
    "y_pred_lr = log_reg.predict(X_test)\n",
    "\n",
    "#metrics\n",
    "# print('Test Accuracy: %s' % accuracy_score(y_pred_lr, y_test))\n",
    "# print('Test Precision: %s' % precision_score(y_pred_lr, y_test))\n",
    "# print('Test Recall: %s' % recall_score(y_pred_lr, y_test))\n",
    "# print('Test F1: %s' % f1_score(y_pred_lr, y_test))"
   ]
  },
  {
   "cell_type": "markdown",
   "metadata": {},
   "source": [
    "# Naive Bayes"
   ]
  },
  {
   "cell_type": "code",
   "execution_count": 25,
   "metadata": {},
   "outputs": [
    {
     "name": "stdout",
     "output_type": "stream",
     "text": [
      "---NB---\n",
      "Train Accuracy: 0.87893125\n",
      "Train Precision: 0.8714269658712022\n",
      "Train Recall: 0.884919729133379\n",
      "Train F1: 0.8781215198474868 \n",
      "\n",
      "Test Accuracy: 0.867075\n",
      "Test Precision: 0.8590934190050701\n",
      "Test Recall: 0.8720953933958419\n",
      "Test F1: 0.8655455809836895\n"
     ]
    }
   ],
   "source": [
    "#Multinomial Naive Bayes Classifier for reviews\n",
    "from sklearn.naive_bayes import MultinomialNB\n",
    "\n",
    "multi_naive_bayes = Pipeline([('vect', CountVectorizer()),\n",
    "               ('tfidf', TfidfTransformer()),\n",
    "               ('clf', MultinomialNB()),\n",
    "              ])\n",
    "#training the classifier\n",
    "multi_naive_bayes.fit(X_train, y_train)\n",
    "\n",
    "# print(\"---NB---\")\n",
    "\n",
    "#predicting the classes on train\n",
    "y_pred_nb_train = multi_naive_bayes.predict(X_train)\n",
    "\n",
    "#metrics\n",
    "# print('Train Accuracy: %s' % accuracy_score(y_pred_nb_train, y_train))\n",
    "# print('Train Precision: %s' % precision_score(y_pred_nb_train, y_train))\n",
    "# print('Train Recall: %s' % recall_score(y_pred_nb_train, y_train))\n",
    "# print('Train F1: %s \\n' % f1_score(y_pred_nb_train, y_train))\n",
    "\n",
    "#predicting the classes on test\n",
    "y_pred_nb = multi_naive_bayes.predict(X_test)\n",
    "\n",
    "#metrics\n",
    "# print('Test Accuracy: %s' % accuracy_score(y_pred_nb, y_test))\n",
    "# print('Test Precision: %s' % precision_score(y_pred_nb, y_test))\n",
    "# print('Test Recall: %s' % recall_score(y_pred_nb, y_test))\n",
    "# print('Test F1: %s' % f1_score(y_pred_nb, y_test))\n"
   ]
  },
  {
   "cell_type": "code",
   "execution_count": 37,
   "metadata": {},
   "outputs": [
    {
     "name": "stdout",
     "output_type": "stream",
     "text": [
      "Neutral Reviews: 349539 Positive Reviews: 3856296 Negative Reviews: 668809 \n",
      "\n",
      "323.274835,312.739695\n",
      "312.739695,176.841055\n",
      "\n",
      "0.88214375,0.910613269396471,0.8617466320018908,0.885506287227002,0.84735,0.8781185683449626,0.8262717868782768,0.8514065998247835\n",
      "\n",
      "0.91041875,0.9053559609885238,0.9147803265450324,0.9100437448613908,0.893275,0.8891119923698609,0.8958122597612785,0.8924495502985413\n",
      "\n",
      "0.9239125,0.9226264064236567,0.9251449393320895,0.9238839564836815,0.881875,0.8807790773555544,0.8818858061921995,0.8813320943315669\n",
      "\n",
      "0.87893125,0.8714269658712022,0.884919729133379,0.8781215198474868,0.867075,0.8590934190050701,0.8720953933958419,0.8655455809836895\n",
      "\n"
     ]
    }
   ],
   "source": [
    "#final output\n",
    "\n",
    "print(\"\\nNeutral Reviews:\", discarded_count, \"Positive Reviews:\", len(pos_data), \"Negative Reviews:\", len(neg_data), \"\\n\")\n",
    "\n",
    "print(str(avg_len1)+\",\"+ str(avg_len2))\n",
    "print(str(avg_len2)+\",\"+ str(avg_len3)+\"\\n\")\n",
    "\n",
    "print(str(accuracy_score(y_pred_perceptron_train, y_train))+\",\"+str(precision_score(y_pred_perceptron_train, y_train))+\",\"+ str(recall_score(y_pred_perceptron_train, y_train))+\",\"+str(f1_score(y_pred_perceptron_train, y_train))+\",\"+str(accuracy_score(y_pred_perceptron, y_test))+\",\"+str(precision_score(y_pred_perceptron, y_test))+\",\"+ str(recall_score(y_pred_perceptron, y_test))+\",\"+str(f1_score(y_pred_perceptron, y_test))+\"\\n\")\n",
    "print(str(accuracy_score(y_pred_svm_train, y_train))+\",\"+str(precision_score(y_pred_svm_train, y_train))+\",\"+ str(recall_score(y_pred_svm_train, y_train))+\",\"+str(f1_score(y_pred_svm_train, y_train))+\",\"+str(accuracy_score(y_pred_svm, y_test))+\",\"+str(precision_score(y_pred_svm, y_test))+\",\"+ str(recall_score(y_pred_svm, y_test))+\",\"+str(f1_score(y_pred_svm, y_test))+\"\\n\")\n",
    "print(str(accuracy_score(y_pred_lr_train, y_train))+\",\"+str(precision_score(y_pred_lr_train, y_train))+\",\"+ str(recall_score(y_pred_lr_train, y_train))+\",\"+str(f1_score(y_pred_lr_train, y_train))+\",\"+str(accuracy_score(y_pred_lr, y_test))+\",\"+str(precision_score(y_pred_lr, y_test))+\",\"+ str(recall_score(y_pred_lr, y_test))+\",\"+str(f1_score(y_pred_lr, y_test))+\"\\n\")\n",
    "print(str(accuracy_score(y_pred_nb_train, y_train))+\",\"+str(precision_score(y_pred_nb_train, y_train))+\",\"+ str(recall_score(y_pred_nb_train, y_train))+\",\"+str(f1_score(y_pred_nb_train, y_train))+\",\"+str(accuracy_score(y_pred_nb, y_test))+\",\"+str(precision_score(y_pred_nb, y_test))+\",\"+ str(recall_score(y_pred_nb, y_test))+\",\"+str(f1_score(y_pred_nb, y_test))+\"\\n\")"
   ]
  }
 ],
 "metadata": {
  "kernelspec": {
   "display_name": "Python 3",
   "language": "python",
   "name": "python3"
  },
  "language_info": {
   "codemirror_mode": {
    "name": "ipython",
    "version": 3
   },
   "file_extension": ".py",
   "mimetype": "text/x-python",
   "name": "python",
   "nbconvert_exporter": "python",
   "pygments_lexer": "ipython3",
   "version": "3.7.6"
  }
 },
 "nbformat": 4,
 "nbformat_minor": 4
}
